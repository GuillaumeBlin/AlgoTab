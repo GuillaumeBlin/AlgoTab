{
 "cells": [
  {
   "cell_type": "markdown",
   "id": "median-revolution",
   "metadata": {},
   "source": [
    "# Exercice 1: affichePairs(a,b)"
   ]
  },
  {
   "cell_type": "code",
   "execution_count": 2,
   "id": "retired-stone",
   "metadata": {},
   "outputs": [
    {
     "name": "stdout",
     "output_type": "stream",
     "text": [
      "toto\n"
     ]
    }
   ],
   "source": [
    "\n",
    "\n",
    "print(\"toto\")\n"
   ]
  },
  {
   "cell_type": "markdown",
   "id": "burning-legislation",
   "metadata": {},
   "source": [
    "# Exercice 2: puissance(x,n)"
   ]
  },
  {
   "cell_type": "code",
   "execution_count": null,
   "id": "funny-teach",
   "metadata": {},
   "outputs": [],
   "source": [
    "\n",
    "\n",
    "\n"
   ]
  },
  {
   "cell_type": "markdown",
   "id": "personalized-prison",
   "metadata": {},
   "source": [
    "# Exercice 3: fibonacci(n)"
   ]
  },
  {
   "cell_type": "code",
   "execution_count": null,
   "id": "spectacular-belief",
   "metadata": {},
   "outputs": [],
   "source": [
    "\n",
    "\n",
    "\n"
   ]
  },
  {
   "cell_type": "markdown",
   "id": "governmental-federal",
   "metadata": {},
   "source": [
    "# Exercice 4: afficheTableMult(n)"
   ]
  },
  {
   "cell_type": "code",
   "execution_count": null,
   "id": "differential-toolbox",
   "metadata": {},
   "outputs": [],
   "source": [
    "\n",
    "\n",
    "\n"
   ]
  },
  {
   "cell_type": "markdown",
   "id": "hollywood-terrace",
   "metadata": {},
   "source": [
    "# Exercice 5: sommeFactorielles(n)"
   ]
  },
  {
   "cell_type": "code",
   "execution_count": null,
   "id": "drawn-switzerland",
   "metadata": {},
   "outputs": [],
   "source": [
    "\n",
    "\n",
    "\n"
   ]
  },
  {
   "cell_type": "markdown",
   "id": "intellectual-bookmark",
   "metadata": {},
   "source": [
    "# Exercice 6: approximation de sqrt(2)"
   ]
  },
  {
   "cell_type": "code",
   "execution_count": null,
   "id": "effective-minute",
   "metadata": {},
   "outputs": [],
   "source": [
    "\n",
    "\n",
    "\n",
    "\n"
   ]
  },
  {
   "cell_type": "markdown",
   "id": "disciplinary-consumption",
   "metadata": {},
   "source": [
    "# Exercice 7: chiffres"
   ]
  },
  {
   "cell_type": "code",
   "execution_count": null,
   "id": "appreciated-browse",
   "metadata": {},
   "outputs": [],
   "source": [
    "\n",
    "\n",
    "\n",
    "\n"
   ]
  }
 ],
 "metadata": {
  "kernelspec": {
   "display_name": "Python 3",
   "language": "python",
   "name": "python3"
  },
  "language_info": {
   "codemirror_mode": {
    "name": "ipython",
    "version": 3
   },
   "file_extension": ".py",
   "mimetype": "text/x-python",
   "name": "python",
   "nbconvert_exporter": "python",
   "pygments_lexer": "ipython3",
   "version": "3.8.5"
  }
 },
 "nbformat": 4,
 "nbformat_minor": 5
}
